{
 "cells": [
  {
   "cell_type": "markdown",
   "metadata": {},
   "source": [
    "### Note\n",
    "* Instructions have been included for each segment. You do not have to follow them exactly, but they are included to help you think through the steps."
   ]
  },
  {
   "cell_type": "code",
   "execution_count": 116,
   "metadata": {},
   "outputs": [],
   "source": [
    "# Dependencies and Setup\n",
    "import pandas as pd\n",
    "import os\n",
    "import numpy as ny\n",
    "\n",
    "# File to Load (Remember to Change These)\n",
    "file_to_load = \"Resources/purchase_data.csv\"\n",
    "\n",
    "# Read Purchasing File and store into Pandas data frame\n",
    "purchase_data_df = pd.read_csv(file_to_load)"
   ]
  },
  {
   "cell_type": "markdown",
   "metadata": {},
   "source": [
    "## Player Count"
   ]
  },
  {
   "cell_type": "code",
   "execution_count": 117,
   "metadata": {},
   "outputs": [
    {
     "output_type": "execute_result",
     "data": {
      "text/plain": [
       "   Purchase ID             SN  Age Gender  Item ID  \\\n",
       "0            0        Lisim78   20   Male      108   \n",
       "1            1    Lisovynya38   40   Male      143   \n",
       "2            2     Ithergue48   24   Male       92   \n",
       "3            3  Chamassasya86   24   Male      100   \n",
       "4            4      Iskosia90   23   Male      131   \n",
       "\n",
       "                                   Item Name  Price  \n",
       "0  Extraction, Quickblade Of Trembling Hands   3.53  \n",
       "1                          Frenzied Scimitar   1.56  \n",
       "2                               Final Critic   4.88  \n",
       "3                                Blindscythe   3.27  \n",
       "4                                       Fury   1.44  "
      ],
      "text/html": "<div>\n<style scoped>\n    .dataframe tbody tr th:only-of-type {\n        vertical-align: middle;\n    }\n\n    .dataframe tbody tr th {\n        vertical-align: top;\n    }\n\n    .dataframe thead th {\n        text-align: right;\n    }\n</style>\n<table border=\"1\" class=\"dataframe\">\n  <thead>\n    <tr style=\"text-align: right;\">\n      <th></th>\n      <th>Purchase ID</th>\n      <th>SN</th>\n      <th>Age</th>\n      <th>Gender</th>\n      <th>Item ID</th>\n      <th>Item Name</th>\n      <th>Price</th>\n    </tr>\n  </thead>\n  <tbody>\n    <tr>\n      <th>0</th>\n      <td>0</td>\n      <td>Lisim78</td>\n      <td>20</td>\n      <td>Male</td>\n      <td>108</td>\n      <td>Extraction, Quickblade Of Trembling Hands</td>\n      <td>3.53</td>\n    </tr>\n    <tr>\n      <th>1</th>\n      <td>1</td>\n      <td>Lisovynya38</td>\n      <td>40</td>\n      <td>Male</td>\n      <td>143</td>\n      <td>Frenzied Scimitar</td>\n      <td>1.56</td>\n    </tr>\n    <tr>\n      <th>2</th>\n      <td>2</td>\n      <td>Ithergue48</td>\n      <td>24</td>\n      <td>Male</td>\n      <td>92</td>\n      <td>Final Critic</td>\n      <td>4.88</td>\n    </tr>\n    <tr>\n      <th>3</th>\n      <td>3</td>\n      <td>Chamassasya86</td>\n      <td>24</td>\n      <td>Male</td>\n      <td>100</td>\n      <td>Blindscythe</td>\n      <td>3.27</td>\n    </tr>\n    <tr>\n      <th>4</th>\n      <td>4</td>\n      <td>Iskosia90</td>\n      <td>23</td>\n      <td>Male</td>\n      <td>131</td>\n      <td>Fury</td>\n      <td>1.44</td>\n    </tr>\n  </tbody>\n</table>\n</div>"
     },
     "metadata": {},
     "execution_count": 117
    }
   ],
   "source": [
    "# Ceate Data Frame to View Data\n",
    "purchase_data_df.head()"
   ]
  },
  {
   "cell_type": "markdown",
   "metadata": {},
   "source": [
    "* Display the total number of players\n"
   ]
  },
  {
   "cell_type": "code",
   "execution_count": 118,
   "metadata": {},
   "outputs": [
    {
     "output_type": "stream",
     "name": "stdout",
     "text": [
      "780\n"
     ]
    }
   ],
   "source": [
    "number_players = len(purchase_data_df[\"Purchase ID\"].value_counts())\n",
    "print(number_players)"
   ]
  },
  {
   "cell_type": "code",
   "execution_count": 119,
   "metadata": {},
   "outputs": [
    {
     "output_type": "execute_result",
     "data": {
      "text/plain": [
       "780"
      ]
     },
     "metadata": {},
     "execution_count": 119
    }
   ],
   "source": [
    "number_players"
   ]
  },
  {
   "cell_type": "markdown",
   "metadata": {},
   "source": [
    "## Purchasing Analysis (Total)"
   ]
  },
  {
   "cell_type": "markdown",
   "metadata": {},
   "source": [
    "* Run basic calculations to obtain number of unique items, average price, etc.\n",
    "\n",
    "\n",
    "* Create a summary data frame to hold the results\n",
    "\n",
    "\n",
    "* Optional: give the displayed data cleaner formatting\n",
    "\n",
    "\n",
    "* Display the summary data frame\n"
   ]
  },
  {
   "cell_type": "code",
   "execution_count": 120,
   "metadata": {
    "scrolled": true
   },
   "outputs": [
    {
     "output_type": "execute_result",
     "data": {
      "text/plain": [
       "179"
      ]
     },
     "metadata": {},
     "execution_count": 120
    }
   ],
   "source": [
    "unique_items = purchase_data_df[\"Item Name\"].nunique()\n",
    "#print(unique_items)\n",
    "unique_items"
   ]
  },
  {
   "cell_type": "code",
   "execution_count": 121,
   "metadata": {},
   "outputs": [
    {
     "output_type": "execute_result",
     "data": {
      "text/plain": [
       "3.05"
      ]
     },
     "metadata": {},
     "execution_count": 121
    }
   ],
   "source": [
    "average_price = round(purchase_data_df[\"Price\"].mean(),2)\n",
    "average_price"
   ]
  },
  {
   "cell_type": "code",
   "execution_count": 122,
   "metadata": {},
   "outputs": [
    {
     "output_type": "execute_result",
     "data": {
      "text/plain": [
       "22.71"
      ]
     },
     "metadata": {},
     "execution_count": 122
    }
   ],
   "source": [
    "average_age = round(purchase_data_df[\"Age\"].mean(),2)\n",
    "average_age"
   ]
  },
  {
   "cell_type": "code",
   "execution_count": 123,
   "metadata": {},
   "outputs": [
    {
     "output_type": "execute_result",
     "data": {
      "text/plain": [
       "780"
      ]
     },
     "metadata": {},
     "execution_count": 123
    }
   ],
   "source": [
    "number_of_purchases = purchase_data_df[\"Price\"].count()\n",
    "number_of_purchases"
   ]
  },
  {
   "cell_type": "code",
   "execution_count": 124,
   "metadata": {},
   "outputs": [
    {
     "output_type": "execute_result",
     "data": {
      "text/plain": [
       "2379.77"
      ]
     },
     "metadata": {},
     "execution_count": 124
    }
   ],
   "source": [
    "total_sales = purchase_data_df[\"Price\"].sum()\n",
    "total_sales"
   ]
  },
  {
   "cell_type": "code",
   "execution_count": 125,
   "metadata": {},
   "outputs": [
    {
     "output_type": "stream",
     "name": "stdout",
     "text": [
      "Number of Unique Items: 179\nAverage Purchase Price: $3.05\nAverage Gamer Age: 22.71\nTotal Number of Purchases: 780\nTotal Sales: $2379.77\n"
     ]
    }
   ],
   "source": [
    "print(\"Number of Unique Items: \" + str(unique_items))\n",
    "print(\"Average Purchase Price: $\" + str(average_price))\n",
    "print(\"Average Gamer Age: \" + str(average_age))\n",
    "print(\"Total Number of Purchases: \" + str(number_of_purchases))\n",
    "print(\"Total Sales: $\" + str(total_sales))"
   ]
  },
  {
   "cell_type": "code",
   "execution_count": 126,
   "metadata": {},
   "outputs": [
    {
     "output_type": "execute_result",
     "data": {
      "text/plain": [
       "   Number of Unique Items  Average Purchase Price  Average Gamer Age  \\\n",
       "0                     179                    3.05              22.71   \n",
       "\n",
       "   Total Number of Purchases  Total Sales  \n",
       "0                        780      2379.77  "
      ],
      "text/html": "<div>\n<style scoped>\n    .dataframe tbody tr th:only-of-type {\n        vertical-align: middle;\n    }\n\n    .dataframe tbody tr th {\n        vertical-align: top;\n    }\n\n    .dataframe thead th {\n        text-align: right;\n    }\n</style>\n<table border=\"1\" class=\"dataframe\">\n  <thead>\n    <tr style=\"text-align: right;\">\n      <th></th>\n      <th>Number of Unique Items</th>\n      <th>Average Purchase Price</th>\n      <th>Average Gamer Age</th>\n      <th>Total Number of Purchases</th>\n      <th>Total Sales</th>\n    </tr>\n  </thead>\n  <tbody>\n    <tr>\n      <th>0</th>\n      <td>179</td>\n      <td>3.05</td>\n      <td>22.71</td>\n      <td>780</td>\n      <td>2379.77</td>\n    </tr>\n  </tbody>\n</table>\n</div>"
     },
     "metadata": {},
     "execution_count": 126
    }
   ],
   "source": [
    "#Summary Data Frame To Hold The Results\n",
    "summary_dataframe_df = pd.DataFrame({\"Number of Unique Items\": [unique_items],\n",
    "                                    \"Average Purchase Price\": [average_price],\n",
    "                                     \"Average Gamer Age\": [average_age],\n",
    "                                      \"Total Number of Purchases\": [number_of_purchases],\n",
    "                                       \"Total Sales\": [total_sales],})\n",
    "summary_dataframe_df.head()"
   ]
  },
  {
   "cell_type": "markdown",
   "metadata": {},
   "source": [
    "## Gender Demographics"
   ]
  },
  {
   "cell_type": "markdown",
   "metadata": {},
   "source": [
    "* Percentage and Count of Male Players\n",
    "\n",
    "\n",
    "* Percentage and Count of Female Players\n",
    "\n",
    "\n",
    "* Percentage and Count of Other / Non-Disclosed\n",
    "\n",
    "\n"
   ]
  },
  {
   "cell_type": "code",
   "execution_count": 127,
   "metadata": {},
   "outputs": [
    {
     "output_type": "execute_result",
     "data": {
      "text/plain": [
       "Male                     652\n",
       "Female                   113\n",
       "Other / Non-Disclosed     15\n",
       "Name: Gender, dtype: int64"
      ]
     },
     "metadata": {},
     "execution_count": 127
    }
   ],
   "source": [
    "gender_count = purchase_data_df[\"Gender\"].value_counts()\n",
    "gender_count"
   ]
  },
  {
   "cell_type": "code",
   "execution_count": 128,
   "metadata": {},
   "outputs": [
    {
     "output_type": "execute_result",
     "data": {
      "text/plain": [
       "Male                     83.59%\n",
       "Female                   14.49%\n",
       "Other / Non-Disclosed     1.92%\n",
       "Name: Gender, dtype: object"
      ]
     },
     "metadata": {},
     "execution_count": 128
    }
   ],
   "source": [
    "gender_percentage = (purchase_data_df[\"Gender\"].value_counts(\"Male\")).map(\"{:,.2%}\".format) \n",
    "gender_percentage"
   ]
  },
  {
   "cell_type": "markdown",
   "metadata": {},
   "source": [
    "* Run basic calculations to obtain purchase count, avg. purchase price, avg. purchase total per person etc. by gender\n",
    "\n",
    "\n",
    "\n",
    "\n",
    "* Create a summary data frame to hold the results\n",
    "\n",
    "\n",
    "* Optional: give the displayed data cleaner formatting\n",
    "\n",
    "\n",
    "* Display the summary data frame"
   ]
  },
  {
   "cell_type": "code",
   "execution_count": 129,
   "metadata": {},
   "outputs": [
    {
     "output_type": "execute_result",
     "data": {
      "text/plain": [
       "Male                     652\n",
       "Female                   113\n",
       "Other / Non-Disclosed     15\n",
       "Name: Gender, dtype: int64"
      ]
     },
     "metadata": {},
     "execution_count": 129
    }
   ],
   "source": [
    "#Run basic calculations to obtain purchase count, avg. purchase price, avg. purchase total per person etc. by gender\n",
    "#purchase count by gender\n",
    "purchase_count = purchase_data_df[\"Gender\"].value_counts()\n",
    "purchase_count "
   ]
  },
  {
   "cell_type": "code",
   "execution_count": 130,
   "metadata": {},
   "outputs": [
    {
     "output_type": "execute_result",
     "data": {
      "text/plain": [
       "3.050987179487176"
      ]
     },
     "metadata": {},
     "execution_count": 130
    }
   ],
   "source": [
    "#avg. purchase price by gender\n",
    "average_price = purchase_data_df[\"Price\"].mean()\n",
    "average_price"
   ]
  },
  {
   "cell_type": "code",
   "execution_count": 131,
   "metadata": {},
   "outputs": [
    {
     "output_type": "execute_result",
     "data": {
      "text/plain": [
       "2379.77"
      ]
     },
     "metadata": {},
     "execution_count": 131
    }
   ],
   "source": [
    "#avg. purchase total per person\n",
    "purchase_price = purchase_data_df[\"Price\"].sum()\n",
    "purchase_price"
   ]
  },
  {
   "cell_type": "code",
   "execution_count": 132,
   "metadata": {},
   "outputs": [
    {
     "output_type": "error",
     "ename": "ValueError",
     "evalue": "If using all scalar values, you must pass an index",
     "traceback": [
      "\u001b[1;31m---------------------------------------------------------------------------\u001b[0m",
      "\u001b[1;31mValueError\u001b[0m                                Traceback (most recent call last)",
      "\u001b[1;32m<ipython-input-132-6bbc4766fc90>\u001b[0m in \u001b[0;36m<module>\u001b[1;34m\u001b[0m\n\u001b[0;32m      1\u001b[0m \u001b[1;31m#new data frame by gender\u001b[0m\u001b[1;33m\u001b[0m\u001b[1;33m\u001b[0m\u001b[1;33m\u001b[0m\u001b[0m\n\u001b[1;32m----> 2\u001b[1;33m \u001b[0mgender_analaysis_df\u001b[0m \u001b[1;33m=\u001b[0m \u001b[0mpd\u001b[0m\u001b[1;33m.\u001b[0m\u001b[0mDataFrame\u001b[0m\u001b[1;33m(\u001b[0m\u001b[1;33m{\u001b[0m\u001b[1;34m\"Average Purchase Price\"\u001b[0m\u001b[1;33m:\u001b[0m \u001b[0maverage_price\u001b[0m\u001b[1;33m,\u001b[0m\u001b[1;34m\"Total Purchase Price\"\u001b[0m\u001b[1;33m:\u001b[0m\u001b[0mpurchase_price\u001b[0m\u001b[1;33m}\u001b[0m\u001b[1;33m)\u001b[0m\u001b[1;33m\u001b[0m\u001b[1;33m\u001b[0m\u001b[0m\n\u001b[0m",
      "\u001b[1;32m~\\Anaconda3\\lib\\site-packages\\pandas\\core\\frame.py\u001b[0m in \u001b[0;36m__init__\u001b[1;34m(self, data, index, columns, dtype, copy)\u001b[0m\n\u001b[0;32m    527\u001b[0m \u001b[1;33m\u001b[0m\u001b[0m\n\u001b[0;32m    528\u001b[0m         \u001b[1;32melif\u001b[0m \u001b[0misinstance\u001b[0m\u001b[1;33m(\u001b[0m\u001b[0mdata\u001b[0m\u001b[1;33m,\u001b[0m \u001b[0mdict\u001b[0m\u001b[1;33m)\u001b[0m\u001b[1;33m:\u001b[0m\u001b[1;33m\u001b[0m\u001b[1;33m\u001b[0m\u001b[0m\n\u001b[1;32m--> 529\u001b[1;33m             \u001b[0mmgr\u001b[0m \u001b[1;33m=\u001b[0m \u001b[0minit_dict\u001b[0m\u001b[1;33m(\u001b[0m\u001b[0mdata\u001b[0m\u001b[1;33m,\u001b[0m \u001b[0mindex\u001b[0m\u001b[1;33m,\u001b[0m \u001b[0mcolumns\u001b[0m\u001b[1;33m,\u001b[0m \u001b[0mdtype\u001b[0m\u001b[1;33m=\u001b[0m\u001b[0mdtype\u001b[0m\u001b[1;33m)\u001b[0m\u001b[1;33m\u001b[0m\u001b[1;33m\u001b[0m\u001b[0m\n\u001b[0m\u001b[0;32m    530\u001b[0m         \u001b[1;32melif\u001b[0m \u001b[0misinstance\u001b[0m\u001b[1;33m(\u001b[0m\u001b[0mdata\u001b[0m\u001b[1;33m,\u001b[0m \u001b[0mma\u001b[0m\u001b[1;33m.\u001b[0m\u001b[0mMaskedArray\u001b[0m\u001b[1;33m)\u001b[0m\u001b[1;33m:\u001b[0m\u001b[1;33m\u001b[0m\u001b[1;33m\u001b[0m\u001b[0m\n\u001b[0;32m    531\u001b[0m             \u001b[1;32mimport\u001b[0m \u001b[0mnumpy\u001b[0m\u001b[1;33m.\u001b[0m\u001b[0mma\u001b[0m\u001b[1;33m.\u001b[0m\u001b[0mmrecords\u001b[0m \u001b[1;32mas\u001b[0m \u001b[0mmrecords\u001b[0m\u001b[1;33m\u001b[0m\u001b[1;33m\u001b[0m\u001b[0m\n",
      "\u001b[1;32m~\\Anaconda3\\lib\\site-packages\\pandas\\core\\internals\\construction.py\u001b[0m in \u001b[0;36minit_dict\u001b[1;34m(data, index, columns, dtype)\u001b[0m\n\u001b[0;32m    285\u001b[0m             \u001b[0marr\u001b[0m \u001b[1;32mif\u001b[0m \u001b[1;32mnot\u001b[0m \u001b[0mis_datetime64tz_dtype\u001b[0m\u001b[1;33m(\u001b[0m\u001b[0marr\u001b[0m\u001b[1;33m)\u001b[0m \u001b[1;32melse\u001b[0m \u001b[0marr\u001b[0m\u001b[1;33m.\u001b[0m\u001b[0mcopy\u001b[0m\u001b[1;33m(\u001b[0m\u001b[1;33m)\u001b[0m \u001b[1;32mfor\u001b[0m \u001b[0marr\u001b[0m \u001b[1;32min\u001b[0m \u001b[0marrays\u001b[0m\u001b[1;33m\u001b[0m\u001b[1;33m\u001b[0m\u001b[0m\n\u001b[0;32m    286\u001b[0m         ]\n\u001b[1;32m--> 287\u001b[1;33m     \u001b[1;32mreturn\u001b[0m \u001b[0marrays_to_mgr\u001b[0m\u001b[1;33m(\u001b[0m\u001b[0marrays\u001b[0m\u001b[1;33m,\u001b[0m \u001b[0mdata_names\u001b[0m\u001b[1;33m,\u001b[0m \u001b[0mindex\u001b[0m\u001b[1;33m,\u001b[0m \u001b[0mcolumns\u001b[0m\u001b[1;33m,\u001b[0m \u001b[0mdtype\u001b[0m\u001b[1;33m=\u001b[0m\u001b[0mdtype\u001b[0m\u001b[1;33m)\u001b[0m\u001b[1;33m\u001b[0m\u001b[1;33m\u001b[0m\u001b[0m\n\u001b[0m\u001b[0;32m    288\u001b[0m \u001b[1;33m\u001b[0m\u001b[0m\n\u001b[0;32m    289\u001b[0m \u001b[1;33m\u001b[0m\u001b[0m\n",
      "\u001b[1;32m~\\Anaconda3\\lib\\site-packages\\pandas\\core\\internals\\construction.py\u001b[0m in \u001b[0;36marrays_to_mgr\u001b[1;34m(arrays, arr_names, index, columns, dtype, verify_integrity)\u001b[0m\n\u001b[0;32m     78\u001b[0m         \u001b[1;31m# figure out the index, if necessary\u001b[0m\u001b[1;33m\u001b[0m\u001b[1;33m\u001b[0m\u001b[1;33m\u001b[0m\u001b[0m\n\u001b[0;32m     79\u001b[0m         \u001b[1;32mif\u001b[0m \u001b[0mindex\u001b[0m \u001b[1;32mis\u001b[0m \u001b[1;32mNone\u001b[0m\u001b[1;33m:\u001b[0m\u001b[1;33m\u001b[0m\u001b[1;33m\u001b[0m\u001b[0m\n\u001b[1;32m---> 80\u001b[1;33m             \u001b[0mindex\u001b[0m \u001b[1;33m=\u001b[0m \u001b[0mextract_index\u001b[0m\u001b[1;33m(\u001b[0m\u001b[0marrays\u001b[0m\u001b[1;33m)\u001b[0m\u001b[1;33m\u001b[0m\u001b[1;33m\u001b[0m\u001b[0m\n\u001b[0m\u001b[0;32m     81\u001b[0m         \u001b[1;32melse\u001b[0m\u001b[1;33m:\u001b[0m\u001b[1;33m\u001b[0m\u001b[1;33m\u001b[0m\u001b[0m\n\u001b[0;32m     82\u001b[0m             \u001b[0mindex\u001b[0m \u001b[1;33m=\u001b[0m \u001b[0mensure_index\u001b[0m\u001b[1;33m(\u001b[0m\u001b[0mindex\u001b[0m\u001b[1;33m)\u001b[0m\u001b[1;33m\u001b[0m\u001b[1;33m\u001b[0m\u001b[0m\n",
      "\u001b[1;32m~\\Anaconda3\\lib\\site-packages\\pandas\\core\\internals\\construction.py\u001b[0m in \u001b[0;36mextract_index\u001b[1;34m(data)\u001b[0m\n\u001b[0;32m    389\u001b[0m \u001b[1;33m\u001b[0m\u001b[0m\n\u001b[0;32m    390\u001b[0m         \u001b[1;32mif\u001b[0m \u001b[1;32mnot\u001b[0m \u001b[0mindexes\u001b[0m \u001b[1;32mand\u001b[0m \u001b[1;32mnot\u001b[0m \u001b[0mraw_lengths\u001b[0m\u001b[1;33m:\u001b[0m\u001b[1;33m\u001b[0m\u001b[1;33m\u001b[0m\u001b[0m\n\u001b[1;32m--> 391\u001b[1;33m             \u001b[1;32mraise\u001b[0m \u001b[0mValueError\u001b[0m\u001b[1;33m(\u001b[0m\u001b[1;34m\"If using all scalar values, you must pass an index\"\u001b[0m\u001b[1;33m)\u001b[0m\u001b[1;33m\u001b[0m\u001b[1;33m\u001b[0m\u001b[0m\n\u001b[0m\u001b[0;32m    392\u001b[0m \u001b[1;33m\u001b[0m\u001b[0m\n\u001b[0;32m    393\u001b[0m         \u001b[1;32mif\u001b[0m \u001b[0mhave_series\u001b[0m\u001b[1;33m:\u001b[0m\u001b[1;33m\u001b[0m\u001b[1;33m\u001b[0m\u001b[0m\n",
      "\u001b[1;31mValueError\u001b[0m: If using all scalar values, you must pass an index"
     ]
    }
   ],
   "source": [
    "#new data frame by gender\n",
    "gender_analaysis_df = pd.DataFrame({\"Average Purchase Price\": average_price,\"Total Purchase Price\":purchase_price})"
   ]
  },
  {
   "cell_type": "code",
   "execution_count": 133,
   "metadata": {},
   "outputs": [
    {
     "output_type": "execute_result",
     "data": {
      "text/plain": [
       "   Price  Age Gender\n",
       "0   3.53   20   Male\n",
       "1   1.56   40   Male\n",
       "2   4.88   24   Male\n",
       "3   3.27   24   Male\n",
       "4   1.44   23   Male"
      ],
      "text/html": "<div>\n<style scoped>\n    .dataframe tbody tr th:only-of-type {\n        vertical-align: middle;\n    }\n\n    .dataframe tbody tr th {\n        vertical-align: top;\n    }\n\n    .dataframe thead th {\n        text-align: right;\n    }\n</style>\n<table border=\"1\" class=\"dataframe\">\n  <thead>\n    <tr style=\"text-align: right;\">\n      <th></th>\n      <th>Price</th>\n      <th>Age</th>\n      <th>Gender</th>\n    </tr>\n  </thead>\n  <tbody>\n    <tr>\n      <th>0</th>\n      <td>3.53</td>\n      <td>20</td>\n      <td>Male</td>\n    </tr>\n    <tr>\n      <th>1</th>\n      <td>1.56</td>\n      <td>40</td>\n      <td>Male</td>\n    </tr>\n    <tr>\n      <th>2</th>\n      <td>4.88</td>\n      <td>24</td>\n      <td>Male</td>\n    </tr>\n    <tr>\n      <th>3</th>\n      <td>3.27</td>\n      <td>24</td>\n      <td>Male</td>\n    </tr>\n    <tr>\n      <th>4</th>\n      <td>1.44</td>\n      <td>23</td>\n      <td>Male</td>\n    </tr>\n  </tbody>\n</table>\n</div>"
     },
     "metadata": {},
     "execution_count": 133
    }
   ],
   "source": [
    "gender_price_df = purchase_data_df[[\"Price\",\"Age\", \"Gender\"]]\n",
    "gender_price_df.head()"
   ]
  },
  {
   "cell_type": "code",
   "execution_count": 134,
   "metadata": {},
   "outputs": [
    {
     "output_type": "execute_result",
     "data": {
      "text/plain": [
       "                       Price  Age\n",
       "Gender                           \n",
       "Female                   113  113\n",
       "Male                     652  652\n",
       "Other / Non-Disclosed     15   15"
      ],
      "text/html": "<div>\n<style scoped>\n    .dataframe tbody tr th:only-of-type {\n        vertical-align: middle;\n    }\n\n    .dataframe tbody tr th {\n        vertical-align: top;\n    }\n\n    .dataframe thead th {\n        text-align: right;\n    }\n</style>\n<table border=\"1\" class=\"dataframe\">\n  <thead>\n    <tr style=\"text-align: right;\">\n      <th></th>\n      <th>Price</th>\n      <th>Age</th>\n    </tr>\n    <tr>\n      <th>Gender</th>\n      <th></th>\n      <th></th>\n    </tr>\n  </thead>\n  <tbody>\n    <tr>\n      <th>Female</th>\n      <td>113</td>\n      <td>113</td>\n    </tr>\n    <tr>\n      <th>Male</th>\n      <td>652</td>\n      <td>652</td>\n    </tr>\n    <tr>\n      <th>Other / Non-Disclosed</th>\n      <td>15</td>\n      <td>15</td>\n    </tr>\n  </tbody>\n</table>\n</div>"
     },
     "metadata": {},
     "execution_count": 134
    }
   ],
   "source": [
    "gender_df = gender_price_df.groupby([\"Gender\"])\n",
    "gender_count = gender_df.count()\n",
    "gender_count"
   ]
  },
  {
   "cell_type": "code",
   "execution_count": null,
   "metadata": {},
   "outputs": [],
   "source": []
  },
  {
   "cell_type": "markdown",
   "metadata": {},
   "source": [
    "## Age Demographics"
   ]
  },
  {
   "cell_type": "markdown",
   "metadata": {},
   "source": [
    "* Establish bins for ages\n",
    "\n",
    "\n",
    "* Categorize the existing players using the age bins. Hint: use pd.cut()\n",
    "\n",
    "\n",
    "* Calculate the numbers and percentages by age group\n",
    "\n",
    "\n",
    "* Create a summary data frame to hold the results\n",
    "\n",
    "\n",
    "* Optional: round the percentage column to two decimal points\n",
    "\n",
    "\n",
    "* Display Age Demographics Table\n"
   ]
  },
  {
   "cell_type": "code",
   "execution_count": 135,
   "metadata": {},
   "outputs": [
    {
     "output_type": "stream",
     "name": "stdout",
     "text": [
      "<pandas.core.groupby.generic.DataFrameGroupBy object at 0x000002857939E610>\n"
     ]
    },
    {
     "output_type": "execute_result",
     "data": {
      "text/plain": [
       "       Total Count Percentage of Players\n",
       "<10             23                 2.95%\n",
       "10-14           28                 3.59%\n",
       "15-19          136                17.44%\n",
       "20-24          365                46.79%\n",
       "25-29          101                12.95%\n",
       "30-34           73                 9.36%\n",
       "35-39           41                 5.26%\n",
       "40+             13                 1.67%"
      ],
      "text/html": "<div>\n<style scoped>\n    .dataframe tbody tr th:only-of-type {\n        vertical-align: middle;\n    }\n\n    .dataframe tbody tr th {\n        vertical-align: top;\n    }\n\n    .dataframe thead th {\n        text-align: right;\n    }\n</style>\n<table border=\"1\" class=\"dataframe\">\n  <thead>\n    <tr style=\"text-align: right;\">\n      <th></th>\n      <th>Total Count</th>\n      <th>Percentage of Players</th>\n    </tr>\n  </thead>\n  <tbody>\n    <tr>\n      <th>&lt;10</th>\n      <td>23</td>\n      <td>2.95%</td>\n    </tr>\n    <tr>\n      <th>10-14</th>\n      <td>28</td>\n      <td>3.59%</td>\n    </tr>\n    <tr>\n      <th>15-19</th>\n      <td>136</td>\n      <td>17.44%</td>\n    </tr>\n    <tr>\n      <th>20-24</th>\n      <td>365</td>\n      <td>46.79%</td>\n    </tr>\n    <tr>\n      <th>25-29</th>\n      <td>101</td>\n      <td>12.95%</td>\n    </tr>\n    <tr>\n      <th>30-34</th>\n      <td>73</td>\n      <td>9.36%</td>\n    </tr>\n    <tr>\n      <th>35-39</th>\n      <td>41</td>\n      <td>5.26%</td>\n    </tr>\n    <tr>\n      <th>40+</th>\n      <td>13</td>\n      <td>1.67%</td>\n    </tr>\n  </tbody>\n</table>\n</div>"
     },
     "metadata": {},
     "execution_count": 135
    }
   ],
   "source": [
    "#Establish bins for ages\n",
    "bins = [0,9,14,19,24,29,34,39,100]\n",
    "age_groups = [\"<10\", \"10-14\", \"15-19\", \"20-24\", \"25-29\", \"30-34\", \"35-39\", \"40+\"]\n",
    "purchase_data_df[\"Age Groups\"] = pd.cut(purchase_data_df[\"Age\"], bins, labels=age_groups)\n",
    "age_df = purchase_data_df.groupby([\"Age Groups\"])\n",
    "print(age_df)\n",
    "total_age = purchase_data_df[\"Age\"].sum()\n",
    "#Purchase Count\n",
    "age_purchase = purchase_data_df[\"Age Groups\"].value_counts()\n",
    "#% of users\n",
    "age_percentage =age_purchase / number_players\n",
    "#Create the Age Demographic DataFrame\n",
    "age_demographic = pd.DataFrame({\"Total Count\": age_purchase,\n",
    "                                \"Percentage of Players\": age_percentage})\n",
    "binned_age_demographic = age_demographic.reindex([\"<10\", \"10-14\", \"15-19\", \"20-24\", \"25-29\", \"30-34\", \"35-39\", \"40+\"])\n",
    "binned_age_demographic[\"Percentage of Players\"] = binned_age_demographic[\"Percentage of Players\"].map(\"{:,.2%}\".format) \n",
    "\n",
    "binned_age_demographic\n",
    "\n",
    "\n"
   ]
  },
  {
   "cell_type": "markdown",
   "metadata": {},
   "source": [
    "## Purchasing Analysis (Age)"
   ]
  },
  {
   "cell_type": "markdown",
   "metadata": {},
   "source": [
    "* Bin the purchase_data data frame by age\n",
    "\n",
    "\n",
    "* Run basic calculations to obtain purchase count, avg. purchase price, avg. purchase total per person etc. in the table below\n",
    "\n",
    "\n",
    "* Create a summary data frame to hold the results\n",
    "\n",
    "\n",
    "* Optional: give the displayed data cleaner formatting\n",
    "\n",
    "\n",
    "* Display the summary data frame"
   ]
  },
  {
   "cell_type": "code",
   "execution_count": 137,
   "metadata": {},
   "outputs": [
    {
     "output_type": "error",
     "ename": "KeyError",
     "evalue": "'Column not found: Total Count'",
     "traceback": [
      "\u001b[1;31m---------------------------------------------------------------------------\u001b[0m",
      "\u001b[1;31mKeyError\u001b[0m                                  Traceback (most recent call last)",
      "\u001b[1;32m<ipython-input-137-59c144f5dcc8>\u001b[0m in \u001b[0;36m<module>\u001b[1;34m\u001b[0m\n\u001b[0;32m      1\u001b[0m \u001b[1;31m#bins = [0,9,14,19,24,29,34,39,100]\u001b[0m\u001b[1;33m\u001b[0m\u001b[1;33m\u001b[0m\u001b[1;33m\u001b[0m\u001b[0m\n\u001b[0;32m      2\u001b[0m \u001b[1;31m#age_groups = [\"<10\", \"10-14\", \"15-19\", \"20-24\", \"25-29\", \"30-34\", \"35-39\", \"40+\"]\u001b[0m\u001b[1;33m\u001b[0m\u001b[1;33m\u001b[0m\u001b[1;33m\u001b[0m\u001b[0m\n\u001b[1;32m----> 3\u001b[1;33m \u001b[0mpurchase_count\u001b[0m \u001b[1;33m=\u001b[0m \u001b[0mage_df\u001b[0m\u001b[1;33m[\u001b[0m\u001b[1;34m\"Total Count\"\u001b[0m\u001b[1;33m]\u001b[0m\u001b[1;33m.\u001b[0m\u001b[0mcount\u001b[0m\u001b[1;33m(\u001b[0m\u001b[1;33m)\u001b[0m\u001b[1;33m\u001b[0m\u001b[1;33m\u001b[0m\u001b[0m\n\u001b[0m\u001b[0;32m      4\u001b[0m \u001b[0mavg_purchase_price\u001b[0m \u001b[1;33m=\u001b[0m \u001b[0mage_df\u001b[0m\u001b[1;33m[\u001b[0m\u001b[1;34m\"Price\"\u001b[0m\u001b[1;33m]\u001b[0m\u001b[1;33m.\u001b[0m\u001b[0mmean\u001b[0m\u001b[1;33m(\u001b[0m\u001b[1;33m)\u001b[0m\u001b[1;33m\u001b[0m\u001b[1;33m\u001b[0m\u001b[0m\n\u001b[0;32m      5\u001b[0m \u001b[0mtotal_purchase_value\u001b[0m \u001b[1;33m=\u001b[0m \u001b[0mpurchase_count\u001b[0m\u001b[1;33m(\u001b[0m\u001b[1;33m)\u001b[0m\u001b[1;33m*\u001b[0m\u001b[0mavg_purchase_price\u001b[0m\u001b[1;33m(\u001b[0m\u001b[1;33m)\u001b[0m\u001b[1;33m\u001b[0m\u001b[1;33m\u001b[0m\u001b[0m\n",
      "\u001b[1;32m~\\Anaconda3\\lib\\site-packages\\pandas\\core\\groupby\\generic.py\u001b[0m in \u001b[0;36m__getitem__\u001b[1;34m(self, key)\u001b[0m\n\u001b[0;32m   1540\u001b[0m                 \u001b[0mstacklevel\u001b[0m\u001b[1;33m=\u001b[0m\u001b[1;36m2\u001b[0m\u001b[1;33m,\u001b[0m\u001b[1;33m\u001b[0m\u001b[1;33m\u001b[0m\u001b[0m\n\u001b[0;32m   1541\u001b[0m             )\n\u001b[1;32m-> 1542\u001b[1;33m         \u001b[1;32mreturn\u001b[0m \u001b[0msuper\u001b[0m\u001b[1;33m(\u001b[0m\u001b[1;33m)\u001b[0m\u001b[1;33m.\u001b[0m\u001b[0m__getitem__\u001b[0m\u001b[1;33m(\u001b[0m\u001b[0mkey\u001b[0m\u001b[1;33m)\u001b[0m\u001b[1;33m\u001b[0m\u001b[1;33m\u001b[0m\u001b[0m\n\u001b[0m\u001b[0;32m   1543\u001b[0m \u001b[1;33m\u001b[0m\u001b[0m\n\u001b[0;32m   1544\u001b[0m     \u001b[1;32mdef\u001b[0m \u001b[0m_gotitem\u001b[0m\u001b[1;33m(\u001b[0m\u001b[0mself\u001b[0m\u001b[1;33m,\u001b[0m \u001b[0mkey\u001b[0m\u001b[1;33m,\u001b[0m \u001b[0mndim\u001b[0m\u001b[1;33m:\u001b[0m \u001b[0mint\u001b[0m\u001b[1;33m,\u001b[0m \u001b[0msubset\u001b[0m\u001b[1;33m=\u001b[0m\u001b[1;32mNone\u001b[0m\u001b[1;33m)\u001b[0m\u001b[1;33m:\u001b[0m\u001b[1;33m\u001b[0m\u001b[1;33m\u001b[0m\u001b[0m\n",
      "\u001b[1;32m~\\Anaconda3\\lib\\site-packages\\pandas\\core\\base.py\u001b[0m in \u001b[0;36m__getitem__\u001b[1;34m(self, key)\u001b[0m\n\u001b[0;32m    278\u001b[0m             \u001b[1;31m# error: \"SelectionMixin\" has no attribute \"obj\"  [attr-defined]\u001b[0m\u001b[1;33m\u001b[0m\u001b[1;33m\u001b[0m\u001b[1;33m\u001b[0m\u001b[0m\n\u001b[0;32m    279\u001b[0m             \u001b[1;32mif\u001b[0m \u001b[0mkey\u001b[0m \u001b[1;32mnot\u001b[0m \u001b[1;32min\u001b[0m \u001b[0mself\u001b[0m\u001b[1;33m.\u001b[0m\u001b[0mobj\u001b[0m\u001b[1;33m:\u001b[0m  \u001b[1;31m# type: ignore[attr-defined]\u001b[0m\u001b[1;33m\u001b[0m\u001b[1;33m\u001b[0m\u001b[0m\n\u001b[1;32m--> 280\u001b[1;33m                 \u001b[1;32mraise\u001b[0m \u001b[0mKeyError\u001b[0m\u001b[1;33m(\u001b[0m\u001b[1;34mf\"Column not found: {key}\"\u001b[0m\u001b[1;33m)\u001b[0m\u001b[1;33m\u001b[0m\u001b[1;33m\u001b[0m\u001b[0m\n\u001b[0m\u001b[0;32m    281\u001b[0m             \u001b[1;32mreturn\u001b[0m \u001b[0mself\u001b[0m\u001b[1;33m.\u001b[0m\u001b[0m_gotitem\u001b[0m\u001b[1;33m(\u001b[0m\u001b[0mkey\u001b[0m\u001b[1;33m,\u001b[0m \u001b[0mndim\u001b[0m\u001b[1;33m=\u001b[0m\u001b[1;36m1\u001b[0m\u001b[1;33m)\u001b[0m\u001b[1;33m\u001b[0m\u001b[1;33m\u001b[0m\u001b[0m\n\u001b[0;32m    282\u001b[0m \u001b[1;33m\u001b[0m\u001b[0m\n",
      "\u001b[1;31mKeyError\u001b[0m: 'Column not found: Total Count'"
     ]
    }
   ],
   "source": [
    "#bins = [0,9,14,19,24,29,34,39,100]\n",
    "#age_groups = [\"<10\", \"10-14\", \"15-19\", \"20-24\", \"25-29\", \"30-34\", \"35-39\", \"40+\"]\n",
    "purchase_count = age_df[\"Total Count\"].count()\n",
    "avg_purchase_price = age_df[\"Price\"].mean()\n",
    "total_purchase_value = purchase_count()*avg_purchase_price()\n",
    "#got lost\n",
    "\n"
   ]
  },
  {
   "cell_type": "markdown",
   "metadata": {},
   "source": [
    "## Top Spenders"
   ]
  },
  {
   "cell_type": "markdown",
   "metadata": {},
   "source": [
    "* Run basic calculations to obtain the results in the table below\n",
    "\n",
    "\n",
    "* Create a summary data frame to hold the results\n",
    "\n",
    "\n",
    "* Sort the total purchase value column in descending order\n",
    "\n",
    "\n",
    "* Optional: give the displayed data cleaner formatting\n",
    "\n",
    "\n",
    "* Display a preview of the summary data frame\n",
    "\n"
   ]
  },
  {
   "cell_type": "code",
   "execution_count": 138,
   "metadata": {},
   "outputs": [
    {
     "output_type": "execute_result",
     "data": {
      "text/plain": [
       "     Purchase ID             SN  Age  Gender  Item ID  \\\n",
       "0              0        Lisim78   20    Male      108   \n",
       "1              1    Lisovynya38   40    Male      143   \n",
       "2              2     Ithergue48   24    Male       92   \n",
       "3              3  Chamassasya86   24    Male      100   \n",
       "4              4      Iskosia90   23    Male      131   \n",
       "..           ...            ...  ...     ...      ...   \n",
       "775          775     Aethedru70   21  Female       60   \n",
       "776          776         Iral74   21    Male      164   \n",
       "777          777     Yathecal72   20    Male       67   \n",
       "778          778        Sisur91    7    Male       92   \n",
       "779          779      Ennrian78   24    Male       50   \n",
       "\n",
       "                                     Item Name  Price Age Groups  \n",
       "0    Extraction, Quickblade Of Trembling Hands   3.53      20-24  \n",
       "1                            Frenzied Scimitar   1.56        40+  \n",
       "2                                 Final Critic   4.88      20-24  \n",
       "3                                  Blindscythe   3.27      20-24  \n",
       "4                                         Fury   1.44      20-24  \n",
       "..                                         ...    ...        ...  \n",
       "775                                       Wolf   3.54      20-24  \n",
       "776                           Exiled Doomblade   1.63      20-24  \n",
       "777      Celeste, Incarnation of the Corrupted   3.46      20-24  \n",
       "778                               Final Critic   4.19        <10  \n",
       "779                                       Dawn   4.60      20-24  \n",
       "\n",
       "[780 rows x 8 columns]"
      ],
      "text/html": "<div>\n<style scoped>\n    .dataframe tbody tr th:only-of-type {\n        vertical-align: middle;\n    }\n\n    .dataframe tbody tr th {\n        vertical-align: top;\n    }\n\n    .dataframe thead th {\n        text-align: right;\n    }\n</style>\n<table border=\"1\" class=\"dataframe\">\n  <thead>\n    <tr style=\"text-align: right;\">\n      <th></th>\n      <th>Purchase ID</th>\n      <th>SN</th>\n      <th>Age</th>\n      <th>Gender</th>\n      <th>Item ID</th>\n      <th>Item Name</th>\n      <th>Price</th>\n      <th>Age Groups</th>\n    </tr>\n  </thead>\n  <tbody>\n    <tr>\n      <th>0</th>\n      <td>0</td>\n      <td>Lisim78</td>\n      <td>20</td>\n      <td>Male</td>\n      <td>108</td>\n      <td>Extraction, Quickblade Of Trembling Hands</td>\n      <td>3.53</td>\n      <td>20-24</td>\n    </tr>\n    <tr>\n      <th>1</th>\n      <td>1</td>\n      <td>Lisovynya38</td>\n      <td>40</td>\n      <td>Male</td>\n      <td>143</td>\n      <td>Frenzied Scimitar</td>\n      <td>1.56</td>\n      <td>40+</td>\n    </tr>\n    <tr>\n      <th>2</th>\n      <td>2</td>\n      <td>Ithergue48</td>\n      <td>24</td>\n      <td>Male</td>\n      <td>92</td>\n      <td>Final Critic</td>\n      <td>4.88</td>\n      <td>20-24</td>\n    </tr>\n    <tr>\n      <th>3</th>\n      <td>3</td>\n      <td>Chamassasya86</td>\n      <td>24</td>\n      <td>Male</td>\n      <td>100</td>\n      <td>Blindscythe</td>\n      <td>3.27</td>\n      <td>20-24</td>\n    </tr>\n    <tr>\n      <th>4</th>\n      <td>4</td>\n      <td>Iskosia90</td>\n      <td>23</td>\n      <td>Male</td>\n      <td>131</td>\n      <td>Fury</td>\n      <td>1.44</td>\n      <td>20-24</td>\n    </tr>\n    <tr>\n      <th>...</th>\n      <td>...</td>\n      <td>...</td>\n      <td>...</td>\n      <td>...</td>\n      <td>...</td>\n      <td>...</td>\n      <td>...</td>\n      <td>...</td>\n    </tr>\n    <tr>\n      <th>775</th>\n      <td>775</td>\n      <td>Aethedru70</td>\n      <td>21</td>\n      <td>Female</td>\n      <td>60</td>\n      <td>Wolf</td>\n      <td>3.54</td>\n      <td>20-24</td>\n    </tr>\n    <tr>\n      <th>776</th>\n      <td>776</td>\n      <td>Iral74</td>\n      <td>21</td>\n      <td>Male</td>\n      <td>164</td>\n      <td>Exiled Doomblade</td>\n      <td>1.63</td>\n      <td>20-24</td>\n    </tr>\n    <tr>\n      <th>777</th>\n      <td>777</td>\n      <td>Yathecal72</td>\n      <td>20</td>\n      <td>Male</td>\n      <td>67</td>\n      <td>Celeste, Incarnation of the Corrupted</td>\n      <td>3.46</td>\n      <td>20-24</td>\n    </tr>\n    <tr>\n      <th>778</th>\n      <td>778</td>\n      <td>Sisur91</td>\n      <td>7</td>\n      <td>Male</td>\n      <td>92</td>\n      <td>Final Critic</td>\n      <td>4.19</td>\n      <td>&lt;10</td>\n    </tr>\n    <tr>\n      <th>779</th>\n      <td>779</td>\n      <td>Ennrian78</td>\n      <td>24</td>\n      <td>Male</td>\n      <td>50</td>\n      <td>Dawn</td>\n      <td>4.60</td>\n      <td>20-24</td>\n    </tr>\n  </tbody>\n</table>\n<p>780 rows × 8 columns</p>\n</div>"
     },
     "metadata": {},
     "execution_count": 138
    }
   ],
   "source": [
    "grouped_sn = purchase_data_df.groupby([\"SN\"])\n",
    "grouped_sn.head()"
   ]
  },
  {
   "cell_type": "code",
   "execution_count": 139,
   "metadata": {},
   "outputs": [
    {
     "output_type": "execute_result",
     "data": {
      "text/plain": [
       "SN\n",
       "Adairialis76    2.28\n",
       "Adastirin33     4.48\n",
       "Aeda94          4.91\n",
       "Aela59          4.32\n",
       "Aelaria33       1.79\n",
       "Name: Price, dtype: float64"
      ]
     },
     "metadata": {},
     "execution_count": 139
    }
   ],
   "source": [
    "total_price_sn = grouped_sn.sum()[\"Price\"]\n",
    "total_price_sn.head()\n"
   ]
  },
  {
   "cell_type": "code",
   "execution_count": 140,
   "metadata": {},
   "outputs": [
    {
     "output_type": "execute_result",
     "data": {
      "text/plain": [
       "SN\n",
       "Adairialis76    2.28\n",
       "Adastirin33     4.48\n",
       "Aeda94          4.91\n",
       "Aela59          4.32\n",
       "Aelaria33       1.79\n",
       "Name: Price, dtype: float64"
      ]
     },
     "metadata": {},
     "execution_count": 140
    }
   ],
   "source": [
    "average_price_sn = grouped_sn.mean()[\"Price\"]\n",
    "average_price_sn.head()"
   ]
  },
  {
   "cell_type": "code",
   "execution_count": 141,
   "metadata": {},
   "outputs": [
    {
     "output_type": "execute_result",
     "data": {
      "text/plain": [
       "SN\n",
       "Adairialis76     1\n",
       "Adastirin33      1\n",
       "Aeda94           1\n",
       "Aela59           1\n",
       "Aelaria33        1\n",
       "                ..\n",
       "Yathecal82       3\n",
       "Yathedeu43       2\n",
       "Yoishirrala98    1\n",
       "Zhisrisu83       2\n",
       "Zontibe81        3\n",
       "Name: Price, Length: 576, dtype: int64"
      ]
     },
     "metadata": {},
     "execution_count": 141
    }
   ],
   "source": [
    "count_sn = grouped_sn.count()[\"Price\"]\n",
    "count_sn"
   ]
  },
  {
   "cell_type": "code",
   "execution_count": 142,
   "metadata": {},
   "outputs": [
    {
     "output_type": "execute_result",
     "data": {
      "text/plain": [
       "               Total Spent  Average Spent  Number of Purchases\n",
       "SN                                                            \n",
       "Adairialis76          2.28       2.280000                    1\n",
       "Adastirin33           4.48       4.480000                    1\n",
       "Aeda94                4.91       4.910000                    1\n",
       "Aela59                4.32       4.320000                    1\n",
       "Aelaria33             1.79       1.790000                    1\n",
       "...                    ...            ...                  ...\n",
       "Yathecal82            6.22       2.073333                    3\n",
       "Yathedeu43            6.02       3.010000                    2\n",
       "Yoishirrala98         4.58       4.580000                    1\n",
       "Zhisrisu83            7.89       3.945000                    2\n",
       "Zontibe81             8.03       2.676667                    3\n",
       "\n",
       "[576 rows x 3 columns]"
      ],
      "text/html": "<div>\n<style scoped>\n    .dataframe tbody tr th:only-of-type {\n        vertical-align: middle;\n    }\n\n    .dataframe tbody tr th {\n        vertical-align: top;\n    }\n\n    .dataframe thead th {\n        text-align: right;\n    }\n</style>\n<table border=\"1\" class=\"dataframe\">\n  <thead>\n    <tr style=\"text-align: right;\">\n      <th></th>\n      <th>Total Spent</th>\n      <th>Average Spent</th>\n      <th>Number of Purchases</th>\n    </tr>\n    <tr>\n      <th>SN</th>\n      <th></th>\n      <th></th>\n      <th></th>\n    </tr>\n  </thead>\n  <tbody>\n    <tr>\n      <th>Adairialis76</th>\n      <td>2.28</td>\n      <td>2.280000</td>\n      <td>1</td>\n    </tr>\n    <tr>\n      <th>Adastirin33</th>\n      <td>4.48</td>\n      <td>4.480000</td>\n      <td>1</td>\n    </tr>\n    <tr>\n      <th>Aeda94</th>\n      <td>4.91</td>\n      <td>4.910000</td>\n      <td>1</td>\n    </tr>\n    <tr>\n      <th>Aela59</th>\n      <td>4.32</td>\n      <td>4.320000</td>\n      <td>1</td>\n    </tr>\n    <tr>\n      <th>Aelaria33</th>\n      <td>1.79</td>\n      <td>1.790000</td>\n      <td>1</td>\n    </tr>\n    <tr>\n      <th>...</th>\n      <td>...</td>\n      <td>...</td>\n      <td>...</td>\n    </tr>\n    <tr>\n      <th>Yathecal82</th>\n      <td>6.22</td>\n      <td>2.073333</td>\n      <td>3</td>\n    </tr>\n    <tr>\n      <th>Yathedeu43</th>\n      <td>6.02</td>\n      <td>3.010000</td>\n      <td>2</td>\n    </tr>\n    <tr>\n      <th>Yoishirrala98</th>\n      <td>4.58</td>\n      <td>4.580000</td>\n      <td>1</td>\n    </tr>\n    <tr>\n      <th>Zhisrisu83</th>\n      <td>7.89</td>\n      <td>3.945000</td>\n      <td>2</td>\n    </tr>\n    <tr>\n      <th>Zontibe81</th>\n      <td>8.03</td>\n      <td>2.676667</td>\n      <td>3</td>\n    </tr>\n  </tbody>\n</table>\n<p>576 rows × 3 columns</p>\n</div>"
     },
     "metadata": {},
     "execution_count": 142
    }
   ],
   "source": [
    "#Sumamry Data Frame Findings\n",
    "summary_df = pd.DataFrame({ \"Total Spent\":total_price_sn, \"Average Spent\":average_price_sn, \n",
    "                            \"Number of Purchases\":count_sn})\n",
    "summary_df\n"
   ]
  },
  {
   "cell_type": "code",
   "execution_count": 143,
   "metadata": {},
   "outputs": [
    {
     "output_type": "execute_result",
     "data": {
      "text/plain": [
       "             Total Spent  Average Spent  Number of Purchases\n",
       "SN                                                          \n",
       "Lisosia93          18.96       3.792000                    5\n",
       "Idastidru52        15.45       3.862500                    4\n",
       "Chamjask73         13.83       4.610000                    3\n",
       "Iral74             13.62       3.405000                    4\n",
       "Iskadarya95        13.10       4.366667                    3\n",
       "...                  ...            ...                  ...\n",
       "Ililsasya43         1.02       1.020000                    1\n",
       "Irilis75            1.02       1.020000                    1\n",
       "Aidai61             1.01       1.010000                    1\n",
       "Chanirra79          1.01       1.010000                    1\n",
       "Alo38               1.00       1.000000                    1\n",
       "\n",
       "[576 rows x 3 columns]"
      ],
      "text/html": "<div>\n<style scoped>\n    .dataframe tbody tr th:only-of-type {\n        vertical-align: middle;\n    }\n\n    .dataframe tbody tr th {\n        vertical-align: top;\n    }\n\n    .dataframe thead th {\n        text-align: right;\n    }\n</style>\n<table border=\"1\" class=\"dataframe\">\n  <thead>\n    <tr style=\"text-align: right;\">\n      <th></th>\n      <th>Total Spent</th>\n      <th>Average Spent</th>\n      <th>Number of Purchases</th>\n    </tr>\n    <tr>\n      <th>SN</th>\n      <th></th>\n      <th></th>\n      <th></th>\n    </tr>\n  </thead>\n  <tbody>\n    <tr>\n      <th>Lisosia93</th>\n      <td>18.96</td>\n      <td>3.792000</td>\n      <td>5</td>\n    </tr>\n    <tr>\n      <th>Idastidru52</th>\n      <td>15.45</td>\n      <td>3.862500</td>\n      <td>4</td>\n    </tr>\n    <tr>\n      <th>Chamjask73</th>\n      <td>13.83</td>\n      <td>4.610000</td>\n      <td>3</td>\n    </tr>\n    <tr>\n      <th>Iral74</th>\n      <td>13.62</td>\n      <td>3.405000</td>\n      <td>4</td>\n    </tr>\n    <tr>\n      <th>Iskadarya95</th>\n      <td>13.10</td>\n      <td>4.366667</td>\n      <td>3</td>\n    </tr>\n    <tr>\n      <th>...</th>\n      <td>...</td>\n      <td>...</td>\n      <td>...</td>\n    </tr>\n    <tr>\n      <th>Ililsasya43</th>\n      <td>1.02</td>\n      <td>1.020000</td>\n      <td>1</td>\n    </tr>\n    <tr>\n      <th>Irilis75</th>\n      <td>1.02</td>\n      <td>1.020000</td>\n      <td>1</td>\n    </tr>\n    <tr>\n      <th>Aidai61</th>\n      <td>1.01</td>\n      <td>1.010000</td>\n      <td>1</td>\n    </tr>\n    <tr>\n      <th>Chanirra79</th>\n      <td>1.01</td>\n      <td>1.010000</td>\n      <td>1</td>\n    </tr>\n    <tr>\n      <th>Alo38</th>\n      <td>1.00</td>\n      <td>1.000000</td>\n      <td>1</td>\n    </tr>\n  </tbody>\n</table>\n<p>576 rows × 3 columns</p>\n</div>"
     },
     "metadata": {},
     "execution_count": 143
    }
   ],
   "source": [
    "#Sort the total purchase value column in descending order\n",
    "sorted_summary_df = summary_df.sort_values(\"Total Spent\", ascending=False)\n",
    "sorted_summary_df"
   ]
  },
  {
   "cell_type": "code",
   "execution_count": 144,
   "metadata": {},
   "outputs": [
    {
     "output_type": "execute_result",
     "data": {
      "text/plain": [
       "            Total Spent Average Spent  Number of Purchases\n",
       "SN                                                        \n",
       "Lisosia93        $18.96         $3.79                    5\n",
       "Idastidru52      $15.45         $3.86                    4\n",
       "Chamjask73       $13.83         $4.61                    3\n",
       "Iral74           $13.62         $3.40                    4\n",
       "Iskadarya95      $13.10         $4.37                    3\n",
       "...                 ...           ...                  ...\n",
       "Ililsasya43       $1.02         $1.02                    1\n",
       "Irilis75          $1.02         $1.02                    1\n",
       "Aidai61           $1.01         $1.01                    1\n",
       "Chanirra79        $1.01         $1.01                    1\n",
       "Alo38             $1.00         $1.00                    1\n",
       "\n",
       "[576 rows x 3 columns]"
      ],
      "text/html": "<div>\n<style scoped>\n    .dataframe tbody tr th:only-of-type {\n        vertical-align: middle;\n    }\n\n    .dataframe tbody tr th {\n        vertical-align: top;\n    }\n\n    .dataframe thead th {\n        text-align: right;\n    }\n</style>\n<table border=\"1\" class=\"dataframe\">\n  <thead>\n    <tr style=\"text-align: right;\">\n      <th></th>\n      <th>Total Spent</th>\n      <th>Average Spent</th>\n      <th>Number of Purchases</th>\n    </tr>\n    <tr>\n      <th>SN</th>\n      <th></th>\n      <th></th>\n      <th></th>\n    </tr>\n  </thead>\n  <tbody>\n    <tr>\n      <th>Lisosia93</th>\n      <td>$18.96</td>\n      <td>$3.79</td>\n      <td>5</td>\n    </tr>\n    <tr>\n      <th>Idastidru52</th>\n      <td>$15.45</td>\n      <td>$3.86</td>\n      <td>4</td>\n    </tr>\n    <tr>\n      <th>Chamjask73</th>\n      <td>$13.83</td>\n      <td>$4.61</td>\n      <td>3</td>\n    </tr>\n    <tr>\n      <th>Iral74</th>\n      <td>$13.62</td>\n      <td>$3.40</td>\n      <td>4</td>\n    </tr>\n    <tr>\n      <th>Iskadarya95</th>\n      <td>$13.10</td>\n      <td>$4.37</td>\n      <td>3</td>\n    </tr>\n    <tr>\n      <th>...</th>\n      <td>...</td>\n      <td>...</td>\n      <td>...</td>\n    </tr>\n    <tr>\n      <th>Ililsasya43</th>\n      <td>$1.02</td>\n      <td>$1.02</td>\n      <td>1</td>\n    </tr>\n    <tr>\n      <th>Irilis75</th>\n      <td>$1.02</td>\n      <td>$1.02</td>\n      <td>1</td>\n    </tr>\n    <tr>\n      <th>Aidai61</th>\n      <td>$1.01</td>\n      <td>$1.01</td>\n      <td>1</td>\n    </tr>\n    <tr>\n      <th>Chanirra79</th>\n      <td>$1.01</td>\n      <td>$1.01</td>\n      <td>1</td>\n    </tr>\n    <tr>\n      <th>Alo38</th>\n      <td>$1.00</td>\n      <td>$1.00</td>\n      <td>1</td>\n    </tr>\n  </tbody>\n</table>\n<p>576 rows × 3 columns</p>\n</div>"
     },
     "metadata": {},
     "execution_count": 144
    }
   ],
   "source": [
    "#Optional: give the displayed data cleaner formatting\n",
    "sorted_summary_df[\"Total Spent\"] = sorted_summary_df[\"Total Spent\"].map(\"${:,.2f}\".format) \n",
    "sorted_summary_df[\"Average Spent\"] = sorted_summary_df[\"Average Spent\"].map(\"${:,.2f}\".format)\n",
    "sorted_summary_df\n",
    "\n"
   ]
  },
  {
   "cell_type": "code",
   "execution_count": 145,
   "metadata": {},
   "outputs": [
    {
     "output_type": "execute_result",
     "data": {
      "text/plain": [
       "             Total Spent Average Spent  Number of Purchases\n",
       "SN                                                         \n",
       "Lisosia93         $18.96         $3.79                    5\n",
       "Idastidru52       $15.45         $3.86                    4\n",
       "Chamjask73        $13.83         $4.61                    3\n",
       "Iral74            $13.62         $3.40                    4\n",
       "Iskadarya95       $13.10         $4.37                    3\n",
       "Ilarin91          $12.70         $4.23                    3\n",
       "Ialallo29         $11.84         $3.95                    3\n",
       "Tyidaim51         $11.83         $3.94                    3\n",
       "Lassilsala30      $11.51         $3.84                    3\n",
       "Chadolyla44       $11.46         $3.82                    3"
      ],
      "text/html": "<div>\n<style scoped>\n    .dataframe tbody tr th:only-of-type {\n        vertical-align: middle;\n    }\n\n    .dataframe tbody tr th {\n        vertical-align: top;\n    }\n\n    .dataframe thead th {\n        text-align: right;\n    }\n</style>\n<table border=\"1\" class=\"dataframe\">\n  <thead>\n    <tr style=\"text-align: right;\">\n      <th></th>\n      <th>Total Spent</th>\n      <th>Average Spent</th>\n      <th>Number of Purchases</th>\n    </tr>\n    <tr>\n      <th>SN</th>\n      <th></th>\n      <th></th>\n      <th></th>\n    </tr>\n  </thead>\n  <tbody>\n    <tr>\n      <th>Lisosia93</th>\n      <td>$18.96</td>\n      <td>$3.79</td>\n      <td>5</td>\n    </tr>\n    <tr>\n      <th>Idastidru52</th>\n      <td>$15.45</td>\n      <td>$3.86</td>\n      <td>4</td>\n    </tr>\n    <tr>\n      <th>Chamjask73</th>\n      <td>$13.83</td>\n      <td>$4.61</td>\n      <td>3</td>\n    </tr>\n    <tr>\n      <th>Iral74</th>\n      <td>$13.62</td>\n      <td>$3.40</td>\n      <td>4</td>\n    </tr>\n    <tr>\n      <th>Iskadarya95</th>\n      <td>$13.10</td>\n      <td>$4.37</td>\n      <td>3</td>\n    </tr>\n    <tr>\n      <th>Ilarin91</th>\n      <td>$12.70</td>\n      <td>$4.23</td>\n      <td>3</td>\n    </tr>\n    <tr>\n      <th>Ialallo29</th>\n      <td>$11.84</td>\n      <td>$3.95</td>\n      <td>3</td>\n    </tr>\n    <tr>\n      <th>Tyidaim51</th>\n      <td>$11.83</td>\n      <td>$3.94</td>\n      <td>3</td>\n    </tr>\n    <tr>\n      <th>Lassilsala30</th>\n      <td>$11.51</td>\n      <td>$3.84</td>\n      <td>3</td>\n    </tr>\n    <tr>\n      <th>Chadolyla44</th>\n      <td>$11.46</td>\n      <td>$3.82</td>\n      <td>3</td>\n    </tr>\n  </tbody>\n</table>\n</div>"
     },
     "metadata": {},
     "execution_count": 145
    }
   ],
   "source": [
    "#Display a preview of the summary data frame\n",
    "sorted_summary_df.head(10)"
   ]
  },
  {
   "cell_type": "markdown",
   "metadata": {},
   "source": [
    "## Most Popular Items"
   ]
  },
  {
   "cell_type": "markdown",
   "metadata": {},
   "source": [
    "* Retrieve the Item ID, Item Name, and Item Price columns\n",
    "\n",
    "\n",
    "* Group by Item ID and Item Name. Perform calculations to obtain purchase count, item price, and total purchase value\n",
    "\n",
    "\n",
    "* Create a summary data frame to hold the results\n",
    "\n",
    "\n",
    "* Sort the purchase count column in descending order\n",
    "\n",
    "\n",
    "* Optional: give the displayed data cleaner formatting\n",
    "\n",
    "\n",
    "* Display a preview of the summary data frame\n",
    "\n"
   ]
  },
  {
   "cell_type": "code",
   "execution_count": 146,
   "metadata": {},
   "outputs": [
    {
     "output_type": "execute_result",
     "data": {
      "text/plain": [
       "                                                   Purchase ID             SN  \\\n",
       "Item ID Item Name                                                               \n",
       "108     Extraction, Quickblade Of Trembling Hands            0        Lisim78   \n",
       "143     Frenzied Scimitar                                    1    Lisovynya38   \n",
       "92      Final Critic                                         2     Ithergue48   \n",
       "100     Blindscythe                                          3  Chamassasya86   \n",
       "131     Fury                                                 4      Iskosia90   \n",
       "...                                                        ...            ...   \n",
       "60      Wolf                                               775     Aethedru70   \n",
       "164     Exiled Doomblade                                   776         Iral74   \n",
       "67      Celeste, Incarnation of the Corrupted              777     Yathecal72   \n",
       "92      Final Critic                                       778        Sisur91   \n",
       "50      Dawn                                               779      Ennrian78   \n",
       "\n",
       "                                                   Age  Gender  Price  \\\n",
       "Item ID Item Name                                                       \n",
       "108     Extraction, Quickblade Of Trembling Hands   20    Male   3.53   \n",
       "143     Frenzied Scimitar                           40    Male   1.56   \n",
       "92      Final Critic                                24    Male   4.88   \n",
       "100     Blindscythe                                 24    Male   3.27   \n",
       "131     Fury                                        23    Male   1.44   \n",
       "...                                                ...     ...    ...   \n",
       "60      Wolf                                        21  Female   3.54   \n",
       "164     Exiled Doomblade                            21    Male   1.63   \n",
       "67      Celeste, Incarnation of the Corrupted       20    Male   3.46   \n",
       "92      Final Critic                                 7    Male   4.19   \n",
       "50      Dawn                                        24    Male   4.60   \n",
       "\n",
       "                                                  Age Groups  \n",
       "Item ID Item Name                                             \n",
       "108     Extraction, Quickblade Of Trembling Hands      20-24  \n",
       "143     Frenzied Scimitar                                40+  \n",
       "92      Final Critic                                   20-24  \n",
       "100     Blindscythe                                    20-24  \n",
       "131     Fury                                           20-24  \n",
       "...                                                      ...  \n",
       "60      Wolf                                           20-24  \n",
       "164     Exiled Doomblade                               20-24  \n",
       "67      Celeste, Incarnation of the Corrupted          20-24  \n",
       "92      Final Critic                                     <10  \n",
       "50      Dawn                                           20-24  \n",
       "\n",
       "[780 rows x 6 columns]"
      ],
      "text/html": "<div>\n<style scoped>\n    .dataframe tbody tr th:only-of-type {\n        vertical-align: middle;\n    }\n\n    .dataframe tbody tr th {\n        vertical-align: top;\n    }\n\n    .dataframe thead th {\n        text-align: right;\n    }\n</style>\n<table border=\"1\" class=\"dataframe\">\n  <thead>\n    <tr style=\"text-align: right;\">\n      <th></th>\n      <th></th>\n      <th>Purchase ID</th>\n      <th>SN</th>\n      <th>Age</th>\n      <th>Gender</th>\n      <th>Price</th>\n      <th>Age Groups</th>\n    </tr>\n    <tr>\n      <th>Item ID</th>\n      <th>Item Name</th>\n      <th></th>\n      <th></th>\n      <th></th>\n      <th></th>\n      <th></th>\n      <th></th>\n    </tr>\n  </thead>\n  <tbody>\n    <tr>\n      <th>108</th>\n      <th>Extraction, Quickblade Of Trembling Hands</th>\n      <td>0</td>\n      <td>Lisim78</td>\n      <td>20</td>\n      <td>Male</td>\n      <td>3.53</td>\n      <td>20-24</td>\n    </tr>\n    <tr>\n      <th>143</th>\n      <th>Frenzied Scimitar</th>\n      <td>1</td>\n      <td>Lisovynya38</td>\n      <td>40</td>\n      <td>Male</td>\n      <td>1.56</td>\n      <td>40+</td>\n    </tr>\n    <tr>\n      <th>92</th>\n      <th>Final Critic</th>\n      <td>2</td>\n      <td>Ithergue48</td>\n      <td>24</td>\n      <td>Male</td>\n      <td>4.88</td>\n      <td>20-24</td>\n    </tr>\n    <tr>\n      <th>100</th>\n      <th>Blindscythe</th>\n      <td>3</td>\n      <td>Chamassasya86</td>\n      <td>24</td>\n      <td>Male</td>\n      <td>3.27</td>\n      <td>20-24</td>\n    </tr>\n    <tr>\n      <th>131</th>\n      <th>Fury</th>\n      <td>4</td>\n      <td>Iskosia90</td>\n      <td>23</td>\n      <td>Male</td>\n      <td>1.44</td>\n      <td>20-24</td>\n    </tr>\n    <tr>\n      <th>...</th>\n      <th>...</th>\n      <td>...</td>\n      <td>...</td>\n      <td>...</td>\n      <td>...</td>\n      <td>...</td>\n      <td>...</td>\n    </tr>\n    <tr>\n      <th>60</th>\n      <th>Wolf</th>\n      <td>775</td>\n      <td>Aethedru70</td>\n      <td>21</td>\n      <td>Female</td>\n      <td>3.54</td>\n      <td>20-24</td>\n    </tr>\n    <tr>\n      <th>164</th>\n      <th>Exiled Doomblade</th>\n      <td>776</td>\n      <td>Iral74</td>\n      <td>21</td>\n      <td>Male</td>\n      <td>1.63</td>\n      <td>20-24</td>\n    </tr>\n    <tr>\n      <th>67</th>\n      <th>Celeste, Incarnation of the Corrupted</th>\n      <td>777</td>\n      <td>Yathecal72</td>\n      <td>20</td>\n      <td>Male</td>\n      <td>3.46</td>\n      <td>20-24</td>\n    </tr>\n    <tr>\n      <th>92</th>\n      <th>Final Critic</th>\n      <td>778</td>\n      <td>Sisur91</td>\n      <td>7</td>\n      <td>Male</td>\n      <td>4.19</td>\n      <td>&lt;10</td>\n    </tr>\n    <tr>\n      <th>50</th>\n      <th>Dawn</th>\n      <td>779</td>\n      <td>Ennrian78</td>\n      <td>24</td>\n      <td>Male</td>\n      <td>4.60</td>\n      <td>20-24</td>\n    </tr>\n  </tbody>\n</table>\n<p>780 rows × 6 columns</p>\n</div>"
     },
     "metadata": {},
     "execution_count": 146
    }
   ],
   "source": [
    "#Retrieve the Item ID, Item Name, and Item Price columns\n",
    "popular_df = purchase_data_df.set_index([\"Item ID\", \"Item Name\"])\n",
    "popular_df"
   ]
  },
  {
   "cell_type": "code",
   "execution_count": 148,
   "metadata": {},
   "outputs": [
    {
     "output_type": "error",
     "ename": "AttributeError",
     "evalue": "'DataFrameGroupBy' object has no attribute 'list'",
     "traceback": [
      "\u001b[1;31m---------------------------------------------------------------------------\u001b[0m",
      "\u001b[1;31mAttributeError\u001b[0m                            Traceback (most recent call last)",
      "\u001b[1;32m<ipython-input-148-9b16d3ba15e1>\u001b[0m in \u001b[0;36m<module>\u001b[1;34m\u001b[0m\n\u001b[0;32m      3\u001b[0m \u001b[0mpopular_df\u001b[0m \u001b[1;33m=\u001b[0m \u001b[0mpopular_df\u001b[0m\u001b[1;33m.\u001b[0m\u001b[0mgroupby\u001b[0m\u001b[1;33m(\u001b[0m\u001b[0mlevel\u001b[0m\u001b[1;33m=\u001b[0m\u001b[1;33m[\u001b[0m\u001b[1;34m\"Item ID\"\u001b[0m\u001b[1;33m,\u001b[0m \u001b[1;34m\"Item Name\"\u001b[0m\u001b[1;33m]\u001b[0m\u001b[1;33m)\u001b[0m\u001b[1;33m\u001b[0m\u001b[1;33m\u001b[0m\u001b[0m\n\u001b[0;32m      4\u001b[0m \u001b[0mpurchase_count_id\u001b[0m \u001b[1;33m=\u001b[0m \u001b[0mpopular_df\u001b[0m\u001b[1;33m.\u001b[0m\u001b[0mcount\u001b[0m\u001b[1;33m(\u001b[0m\u001b[1;33m)\u001b[0m\u001b[1;33m[\u001b[0m\u001b[1;34m\"Price\"\u001b[0m\u001b[1;33m]\u001b[0m\u001b[1;33m\u001b[0m\u001b[1;33m\u001b[0m\u001b[0m\n\u001b[1;32m----> 5\u001b[1;33m \u001b[0mpurchase_itemprice_id\u001b[0m \u001b[1;33m=\u001b[0m \u001b[0mpopular_df\u001b[0m\u001b[1;33m.\u001b[0m\u001b[0mlist\u001b[0m\u001b[1;33m(\u001b[0m\u001b[1;33m)\u001b[0m\u001b[1;33m[\u001b[0m\u001b[1;34m\"Price\"\u001b[0m\u001b[1;33m]\u001b[0m\u001b[1;33m\u001b[0m\u001b[1;33m\u001b[0m\u001b[0m\n\u001b[0m\u001b[0;32m      6\u001b[0m \u001b[0mpurchase_price_id\u001b[0m \u001b[1;33m=\u001b[0m \u001b[0mpopular_df\u001b[0m\u001b[1;33m.\u001b[0m\u001b[0msum\u001b[0m\u001b[1;33m(\u001b[0m\u001b[1;33m)\u001b[0m\u001b[1;33m[\u001b[0m\u001b[1;34m\"Price\"\u001b[0m\u001b[1;33m]\u001b[0m\u001b[1;33m\u001b[0m\u001b[1;33m\u001b[0m\u001b[0m\n\u001b[0;32m      7\u001b[0m \u001b[1;33m\u001b[0m\u001b[0m\n",
      "\u001b[1;32m~\\Anaconda3\\lib\\site-packages\\pandas\\core\\groupby\\groupby.py\u001b[0m in \u001b[0;36m__getattr__\u001b[1;34m(self, attr)\u001b[0m\n\u001b[0;32m    750\u001b[0m             \u001b[1;32mreturn\u001b[0m \u001b[0mself\u001b[0m\u001b[1;33m[\u001b[0m\u001b[0mattr\u001b[0m\u001b[1;33m]\u001b[0m\u001b[1;33m\u001b[0m\u001b[1;33m\u001b[0m\u001b[0m\n\u001b[0;32m    751\u001b[0m \u001b[1;33m\u001b[0m\u001b[0m\n\u001b[1;32m--> 752\u001b[1;33m         raise AttributeError(\n\u001b[0m\u001b[0;32m    753\u001b[0m             \u001b[1;34mf\"'{type(self).__name__}' object has no attribute '{attr}'\"\u001b[0m\u001b[1;33m\u001b[0m\u001b[1;33m\u001b[0m\u001b[0m\n\u001b[0;32m    754\u001b[0m         )\n",
      "\u001b[1;31mAttributeError\u001b[0m: 'DataFrameGroupBy' object has no attribute 'list'"
     ]
    }
   ],
   "source": [
    "#Group by Item ID and Item Name. Perform calculations to obtain purchase count, item price, and total purchase value\n",
    "popular_df = purchase_data_df.set_index([\"Item ID\", \"Item Name\"])\n",
    "popular_df = popular_df.groupby(level=[\"Item ID\", \"Item Name\"])\n",
    "purchase_count_id = popular_df.count()[\"Price\"]\n",
    "purchase_itemprice_id = popular_df.list()[\"Price\"]\n",
    "purchase_price_id = popular_df.sum()[\"Price\"]\n",
    "\n",
    "#Create a New Dataframe\n",
    "most_popular_df = pd.DataFrame({ \n",
    "                                \"Count\":purchase_count_id,\n",
    "                                 \"Listed Price\":purchase_itemprice_id,\n",
    "                                \"Total Purchase Price\": purchase_price_id})\n",
    "most_popular_df.head()\n",
    "\n",
    "sorted_most_popular_df = most_popular_df.sort_values(\"Total Purchase Price\", ascending=False)\n",
    "#Sort the above table by total purchase value in descending order\n",
    "#Optional: give the displayed data cleaner formatting\n",
    "#Display a preview of the data frame\n",
    "\n",
    "sorted_most_popular_df[\"Total Purchase Price\"] = sorted_most_popular_df[\"Total Purchase Price\"].map(\"${:,.2f}\".format) \n",
    "sorted_most_popular_df = sorted_most_popular_df [[\"Count\", \"Listed Price\", \"Total Purchase Price\"]]\n",
    "\n",
    "sorted_most_popular_df.head(5)\n",
    "\n"
   ]
  },
  {
   "cell_type": "markdown",
   "metadata": {},
   "source": [
    "## Most Profitable Items"
   ]
  },
  {
   "cell_type": "markdown",
   "metadata": {},
   "source": [
    "* Sort the above table by total purchase value in descending order\n",
    "\n",
    "\n",
    "* Optional: give the displayed data cleaner formatting\n",
    "\n",
    "\n",
    "* Display a preview of the data frame\n",
    "\n"
   ]
  },
  {
   "cell_type": "code",
   "execution_count": null,
   "metadata": {
    "scrolled": true
   },
   "outputs": [],
   "source": []
  }
 ],
 "metadata": {
  "anaconda-cloud": {},
  "kernel_info": {
   "name": "python3"
  },
  "kernelspec": {
   "name": "python3",
   "display_name": "Python 3.8.8 64-bit ('base': conda)"
  },
  "language_info": {
   "codemirror_mode": {
    "name": "ipython",
    "version": 3
   },
   "file_extension": ".py",
   "mimetype": "text/x-python",
   "name": "python",
   "nbconvert_exporter": "python",
   "pygments_lexer": "ipython3",
   "version": "3.8.8"
  },
  "latex_envs": {
   "LaTeX_envs_menu_present": true,
   "autoclose": false,
   "autocomplete": true,
   "bibliofile": "biblio.bib",
   "cite_by": "apalike",
   "current_citInitial": 1,
   "eqLabelWithNumbers": true,
   "eqNumInitial": 1,
   "hotkeys": {
    "equation": "Ctrl-E",
    "itemize": "Ctrl-I"
   },
   "labels_anchors": false,
   "latex_user_defs": false,
   "report_style_numbering": false,
   "user_envs_cfg": false
  },
  "nteract": {
   "version": "0.2.0"
  },
  "interpreter": {
   "hash": "33305c8159ff28e314c77599975fb1e75941b151796131679e536105d35b56e6"
  }
 },
 "nbformat": 4,
 "nbformat_minor": 2
}